{
 "cells": [
  {
   "cell_type": "markdown",
   "metadata": {},
   "source": [
    "#### 一、端午节的淘宝粽子交易"
   ]
  },
  {
   "cell_type": "code",
   "execution_count": 106,
   "metadata": {
    "scrolled": true
   },
   "outputs": [
    {
     "data": {
      "text/html": [
       "<div>\n",
       "<style scoped>\n",
       "    .dataframe tbody tr th:only-of-type {\n",
       "        vertical-align: middle;\n",
       "    }\n",
       "\n",
       "    .dataframe tbody tr th {\n",
       "        vertical-align: top;\n",
       "    }\n",
       "\n",
       "    .dataframe thead th {\n",
       "        text-align: right;\n",
       "    }\n",
       "</style>\n",
       "<table border=\"1\" class=\"dataframe\">\n",
       "  <thead>\n",
       "    <tr style=\"text-align: right;\">\n",
       "      <th></th>\n",
       "      <th>标题</th>\n",
       "      <th>价格</th>\n",
       "      <th>付款人数</th>\n",
       "      <th>店铺</th>\n",
       "      <th>发货地址</th>\n",
       "    </tr>\n",
       "  </thead>\n",
       "  <tbody>\n",
       "    <tr>\n",
       "      <th>0</th>\n",
       "      <td>五芳斋粽子礼盒 心悦+18只装咸鸭蛋组合端午节礼品团购嘉兴肉粽子</td>\n",
       "      <td>129</td>\n",
       "      <td>6人付款</td>\n",
       "      <td>五芳斋官方旗舰店</td>\n",
       "      <td>浙江 嘉兴</td>\n",
       "    </tr>\n",
       "    <tr>\n",
       "      <th>1</th>\n",
       "      <td>北京稻香村端午粽子手工豆沙粽220g*2袋散装豆沙粽香甜软糯豆沙粽</td>\n",
       "      <td>44</td>\n",
       "      <td>8人付款</td>\n",
       "      <td>天猫超市</td>\n",
       "      <td>上海</td>\n",
       "    </tr>\n",
       "    <tr>\n",
       "      <th>2</th>\n",
       "      <td>五芳斋粽子礼盒装鲜肉咸蛋黄大肉粽嘉兴豆沙甜粽端午团购散装礼品</td>\n",
       "      <td>89.9</td>\n",
       "      <td>100万+人付款</td>\n",
       "      <td>五芳斋官方旗舰店</td>\n",
       "      <td>浙江 嘉兴</td>\n",
       "    </tr>\n",
       "    <tr>\n",
       "      <th>3</th>\n",
       "      <td>稻香私房鲜肉粽蛋黄肉粽嘉兴粽子咸鸭蛋礼盒装端午节送礼特产团购</td>\n",
       "      <td>138</td>\n",
       "      <td>1936人付款</td>\n",
       "      <td>稻香村食品旗舰店</td>\n",
       "      <td>北京</td>\n",
       "    </tr>\n",
       "    <tr>\n",
       "      <th>4</th>\n",
       "      <td>嘉兴粽子 蛋黄鲜肉粽新鲜大肉粽早餐散装团购浙江特产蜜枣多口味</td>\n",
       "      <td>3.8</td>\n",
       "      <td>9500+人付款</td>\n",
       "      <td>城城喂食猫</td>\n",
       "      <td>浙江 嘉兴</td>\n",
       "    </tr>\n",
       "  </tbody>\n",
       "</table>\n",
       "</div>"
      ],
      "text/plain": [
       "                                  标题    价格      付款人数        店铺  发货地址 \n",
       "0   五芳斋粽子礼盒 心悦+18只装咸鸭蛋组合端午节礼品团购嘉兴肉粽子   129      6人付款  五芳斋官方旗舰店  浙江 嘉兴\n",
       "1  北京稻香村端午粽子手工豆沙粽220g*2袋散装豆沙粽香甜软糯豆沙粽    44      8人付款      天猫超市     上海\n",
       "2     五芳斋粽子礼盒装鲜肉咸蛋黄大肉粽嘉兴豆沙甜粽端午团购散装礼品  89.9  100万+人付款  五芳斋官方旗舰店  浙江 嘉兴\n",
       "3     稻香私房鲜肉粽蛋黄肉粽嘉兴粽子咸鸭蛋礼盒装端午节送礼特产团购   138   1936人付款  稻香村食品旗舰店     北京\n",
       "4     嘉兴粽子 蛋黄鲜肉粽新鲜大肉粽早餐散装团购浙江特产蜜枣多口味   3.8  9500+人付款     城城喂食猫  浙江 嘉兴"
      ]
     },
     "execution_count": 106,
     "metadata": {},
     "output_type": "execute_result"
    }
   ],
   "source": [
    "import pandas as pd\n",
    "import numpy as np\n",
    "df = pd.read_csv(r'joyful-pandas-master\\data\\端午粽子数据.csv').convert_dtypes()\n",
    "df.head()"
   ]
  },
  {
   "cell_type": "code",
   "execution_count": 107,
   "metadata": {},
   "outputs": [
    {
     "data": {
      "text/plain": [
       "Index(['标题', ' 价格', '付款人数', '店铺', '发货地址 '], dtype='object')"
      ]
     },
     "execution_count": 107,
     "metadata": {},
     "output_type": "execute_result"
    }
   ],
   "source": [
    "df.columns"
   ]
  },
  {
   "cell_type": "markdown",
   "metadata": {},
   "source": [
    "(1) 请删除最后一列为缺失值的行，并求所有在杭州发货的商品单价均值。"
   ]
  },
  {
   "cell_type": "code",
   "execution_count": 108,
   "metadata": {},
   "outputs": [
    {
     "data": {
      "text/plain": [
       "64.86883306320908"
      ]
     },
     "execution_count": 108,
     "metadata": {},
     "output_type": "execute_result"
    }
   ],
   "source": [
    "df1=df.drop(labels=df[df['发货地址 '].isna()].index,axis=0)\n",
    "avg = df[df['发货地址 '].str.contains('上海')][' 价格'].astype(\"float\").mean()\n",
    "avg"
   ]
  },
  {
   "cell_type": "markdown",
   "metadata": {},
   "source": [
    "(2) 商品标题带有“嘉兴”但发货地却不在嘉兴的商品有多少条记录？"
   ]
  },
  {
   "cell_type": "code",
   "execution_count": 109,
   "metadata": {},
   "outputs": [
    {
     "data": {
      "text/plain": [
       "1032"
      ]
     },
     "execution_count": 109,
     "metadata": {},
     "output_type": "execute_result"
    }
   ],
   "source": [
    "df2 = df1[df1['标题'].str.contains('嘉兴')]\n",
    "df2[~df2['发货地址 '].str.contains('嘉兴')].shape[0]"
   ]
  },
  {
   "cell_type": "markdown",
   "metadata": {},
   "source": [
    "(3) 请按照分位数将价格分为“高、较高、中、较低、低”5 个类别，再将\n",
    "类别结果插入到标题一列之后，最后对类别列进行降序排序。"
   ]
  },
  {
   "cell_type": "code",
   "execution_count": 129,
   "metadata": {},
   "outputs": [
    {
     "data": {
      "text/html": [
       "<div>\n",
       "<style scoped>\n",
       "    .dataframe tbody tr th:only-of-type {\n",
       "        vertical-align: middle;\n",
       "    }\n",
       "\n",
       "    .dataframe tbody tr th {\n",
       "        vertical-align: top;\n",
       "    }\n",
       "\n",
       "    .dataframe thead th {\n",
       "        text-align: right;\n",
       "    }\n",
       "</style>\n",
       "<table border=\"1\" class=\"dataframe\">\n",
       "  <thead>\n",
       "    <tr style=\"text-align: right;\">\n",
       "      <th></th>\n",
       "      <th>标题</th>\n",
       "      <th>价格类别</th>\n",
       "      <th>价格</th>\n",
       "      <th>付款人数</th>\n",
       "      <th>店铺</th>\n",
       "      <th>发货地址</th>\n",
       "    </tr>\n",
       "  </thead>\n",
       "  <tbody>\n",
       "    <tr>\n",
       "      <th>3666</th>\n",
       "      <td>嘉兴五芳斋粽子紫米栗蓉粽板栗栗子甜粽子五谷素粽真空袋装美味</td>\n",
       "      <td>低</td>\n",
       "      <td>11.0</td>\n",
       "      <td>162人付款</td>\n",
       "      <td>三珍斋食品专营店</td>\n",
       "      <td>江苏 南京</td>\n",
       "    </tr>\n",
       "    <tr>\n",
       "      <th>1623</th>\n",
       "      <td>白米粽子新鲜湖南甜粽原味小粽子农家手工散装绿豆红枣碱水清水粽</td>\n",
       "      <td>低</td>\n",
       "      <td>20.9</td>\n",
       "      <td>181人付款</td>\n",
       "      <td>乐家_stone</td>\n",
       "      <td>湖南 常德</td>\n",
       "    </tr>\n",
       "    <tr>\n",
       "      <th>1053</th>\n",
       "      <td>【9只特价】新鲜蛋黄肉粽 嘉兴粽子特产端午节批发团购早餐粽手工</td>\n",
       "      <td>低</td>\n",
       "      <td>20.8</td>\n",
       "      <td>1358人付款</td>\n",
       "      <td>怡品三清旗舰店</td>\n",
       "      <td>浙江 杭州</td>\n",
       "    </tr>\n",
       "    <tr>\n",
       "      <th>3743</th>\n",
       "      <td>三珍斋嘉兴粽子大肉粽子蛋黄肉粽豆沙蜜枣端午节散装批发鲜肉棕子</td>\n",
       "      <td>低</td>\n",
       "      <td>19.9</td>\n",
       "      <td>35人付款</td>\n",
       "      <td>三珍斋乌镇专卖</td>\n",
       "      <td>浙江 嘉兴</td>\n",
       "    </tr>\n",
       "    <tr>\n",
       "      <th>1311</th>\n",
       "      <td>现做新鲜粽子咸蛋黄肉粽甜粽端午节散装嘉兴蜜枣豆沙大批發礼盒装</td>\n",
       "      <td>低</td>\n",
       "      <td>9.9</td>\n",
       "      <td>5000+人付款</td>\n",
       "      <td>徽老九美食</td>\n",
       "      <td>安徽 亳州</td>\n",
       "    </tr>\n",
       "    <tr>\n",
       "      <th>...</th>\n",
       "      <td>...</td>\n",
       "      <td>...</td>\n",
       "      <td>...</td>\n",
       "      <td>...</td>\n",
       "      <td>...</td>\n",
       "      <td>...</td>\n",
       "    </tr>\n",
       "    <tr>\n",
       "      <th>3548</th>\n",
       "      <td>锦华粽子瑞阳祥礼端午节礼盒新鲜嘉兴肉素六粒粽蛋卷组合送人礼品</td>\n",
       "      <td>高</td>\n",
       "      <td>110.6</td>\n",
       "      <td>36人付款</td>\n",
       "      <td>北京咏逢礼信商贸有限公司</td>\n",
       "      <td>北京</td>\n",
       "    </tr>\n",
       "    <tr>\n",
       "      <th>3523</th>\n",
       "      <td>印象昆韵新品昆曲文化创意端午节胚芽糙米手工肉粽子端阳礼品礼盒</td>\n",
       "      <td>高</td>\n",
       "      <td>156.0</td>\n",
       "      <td>21人付款</td>\n",
       "      <td>印象昆韵</td>\n",
       "      <td>江苏 苏州</td>\n",
       "    </tr>\n",
       "    <tr>\n",
       "      <th>0</th>\n",
       "      <td>五芳斋粽子礼盒 心悦+18只装咸鸭蛋组合端午节礼品团购嘉兴肉粽子</td>\n",
       "      <td>高</td>\n",
       "      <td>129.0</td>\n",
       "      <td>6人付款</td>\n",
       "      <td>五芳斋官方旗舰店</td>\n",
       "      <td>浙江 嘉兴</td>\n",
       "    </tr>\n",
       "    <tr>\n",
       "      <th>538</th>\n",
       "      <td>五芳斋粽子蛋黄鲜肉粽豆沙粽栗子肉棕子新鲜散装批发团购嘉兴肉粽</td>\n",
       "      <td>NaN</td>\n",
       "      <td>NaN</td>\n",
       "      <td>1.0万+人付款</td>\n",
       "      <td>五芳斋官方旗舰店</td>\n",
       "      <td>浙江 嘉兴</td>\n",
       "    </tr>\n",
       "    <tr>\n",
       "      <th>4376</th>\n",
       "      <td>东方贺礼端午节礼盒嘉兴粽子高汤蛋黄鲜大肉粽特产现已支持定制</td>\n",
       "      <td>NaN</td>\n",
       "      <td>NaN</td>\n",
       "      <td>17人付款</td>\n",
       "      <td>缘来有礼</td>\n",
       "      <td>浙江 杭州</td>\n",
       "    </tr>\n",
       "  </tbody>\n",
       "</table>\n",
       "<p>4400 rows × 6 columns</p>\n",
       "</div>"
      ],
      "text/plain": [
       "                                    标题 价格类别     价格      付款人数            店铺  \\\n",
       "3666     嘉兴五芳斋粽子紫米栗蓉粽板栗栗子甜粽子五谷素粽真空袋装美味    低   11.0    162人付款      三珍斋食品专营店   \n",
       "1623    白米粽子新鲜湖南甜粽原味小粽子农家手工散装绿豆红枣碱水清水粽    低   20.9    181人付款      乐家_stone   \n",
       "1053   【9只特价】新鲜蛋黄肉粽 嘉兴粽子特产端午节批发团购早餐粽手工    低   20.8   1358人付款       怡品三清旗舰店   \n",
       "3743    三珍斋嘉兴粽子大肉粽子蛋黄肉粽豆沙蜜枣端午节散装批发鲜肉棕子    低   19.9     35人付款       三珍斋乌镇专卖   \n",
       "1311    现做新鲜粽子咸蛋黄肉粽甜粽端午节散装嘉兴蜜枣豆沙大批發礼盒装    低    9.9  5000+人付款         徽老九美食   \n",
       "...                                ...  ...    ...       ...           ...   \n",
       "3548    锦华粽子瑞阳祥礼端午节礼盒新鲜嘉兴肉素六粒粽蛋卷组合送人礼品    高  110.6     36人付款  北京咏逢礼信商贸有限公司   \n",
       "3523    印象昆韵新品昆曲文化创意端午节胚芽糙米手工肉粽子端阳礼品礼盒    高  156.0     21人付款          印象昆韵   \n",
       "0     五芳斋粽子礼盒 心悦+18只装咸鸭蛋组合端午节礼品团购嘉兴肉粽子    高  129.0      6人付款      五芳斋官方旗舰店   \n",
       "538     五芳斋粽子蛋黄鲜肉粽豆沙粽栗子肉棕子新鲜散装批发团购嘉兴肉粽  NaN    NaN  1.0万+人付款      五芳斋官方旗舰店   \n",
       "4376     东方贺礼端午节礼盒嘉兴粽子高汤蛋黄鲜大肉粽特产现已支持定制  NaN    NaN     17人付款          缘来有礼   \n",
       "\n",
       "      发货地址   \n",
       "3666  江苏 南京  \n",
       "1623  湖南 常德  \n",
       "1053  浙江 杭州  \n",
       "3743  浙江 嘉兴  \n",
       "1311  安徽 亳州  \n",
       "...     ...  \n",
       "3548     北京  \n",
       "3523  江苏 苏州  \n",
       "0     浙江 嘉兴  \n",
       "538   浙江 嘉兴  \n",
       "4376  浙江 杭州  \n",
       "\n",
       "[4400 rows x 6 columns]"
      ]
     },
     "execution_count": 129,
     "metadata": {},
     "output_type": "execute_result"
    }
   ],
   "source": [
    "df_zongzi = df.copy().dropna(axis=0,subset=['发货地址 '])\n",
    "df_zongzi.loc[:,' 价格'] = pd.to_numeric(df_zongzi.loc[:,' 价格'],errors='coerce')\n",
    "q = [df_zongzi.loc[:,' 价格'].quantile(i) for i in [0,.2,.4,.6,.8,1]];q[-1] += 1\n",
    "df_zongzi.loc[:,'价格类别'] = pd.cut(df_zongzi[' 价格'],q,right=False,labels=['低','较低','中','较高','高'])\n",
    "ret_df = df_zongzi.loc[:,['标题','价格类别', ' 价格', '付款人数', '店铺', '发货地址 ']].sort_values(by='价格类别')\n",
    "ret_df"
   ]
  },
  {
   "cell_type": "markdown",
   "metadata": {},
   "source": [
    "(4) 付款人数一栏有缺失值吗？若有则请利用上一问的分类结果对这些缺失\n",
    "值进行合理估计并填充。"
   ]
  },
  {
   "cell_type": "code",
   "execution_count": 134,
   "metadata": {},
   "outputs": [
    {
     "name": "stderr",
     "output_type": "stream",
     "text": [
      "c:\\users\\chanceyin\\appdata\\local\\programs\\python\\python37\\lib\\site-packages\\ipykernel_launcher.py:3: SettingWithCopyWarning: \n",
      "A value is trying to be set on a copy of a slice from a DataFrame\n",
      "\n",
      "See the caveats in the documentation: https://pandas.pydata.org/pandas-docs/stable/user_guide/indexing.html#returning-a-view-versus-a-copy\n",
      "  This is separate from the ipykernel package so we can avoid doing imports until\n"
     ]
    },
    {
     "data": {
      "text/html": [
       "<div>\n",
       "<style scoped>\n",
       "    .dataframe tbody tr th:only-of-type {\n",
       "        vertical-align: middle;\n",
       "    }\n",
       "\n",
       "    .dataframe tbody tr th {\n",
       "        vertical-align: top;\n",
       "    }\n",
       "\n",
       "    .dataframe thead th {\n",
       "        text-align: right;\n",
       "    }\n",
       "</style>\n",
       "<table border=\"1\" class=\"dataframe\">\n",
       "  <thead>\n",
       "    <tr style=\"text-align: right;\">\n",
       "      <th></th>\n",
       "      <th>标题</th>\n",
       "      <th>价格类别</th>\n",
       "      <th>价格</th>\n",
       "      <th>付款人数</th>\n",
       "      <th>店铺</th>\n",
       "      <th>发货地址</th>\n",
       "    </tr>\n",
       "  </thead>\n",
       "  <tbody>\n",
       "    <tr>\n",
       "      <th>3666</th>\n",
       "      <td>嘉兴五芳斋粽子紫米栗蓉粽板栗栗子甜粽子五谷素粽真空袋装美味</td>\n",
       "      <td>低</td>\n",
       "      <td>11.0</td>\n",
       "      <td>162人付款</td>\n",
       "      <td>三珍斋食品专营店</td>\n",
       "      <td>江苏 南京</td>\n",
       "    </tr>\n",
       "    <tr>\n",
       "      <th>1623</th>\n",
       "      <td>白米粽子新鲜湖南甜粽原味小粽子农家手工散装绿豆红枣碱水清水粽</td>\n",
       "      <td>低</td>\n",
       "      <td>20.9</td>\n",
       "      <td>181人付款</td>\n",
       "      <td>乐家_stone</td>\n",
       "      <td>湖南 常德</td>\n",
       "    </tr>\n",
       "    <tr>\n",
       "      <th>1053</th>\n",
       "      <td>【9只特价】新鲜蛋黄肉粽 嘉兴粽子特产端午节批发团购早餐粽手工</td>\n",
       "      <td>低</td>\n",
       "      <td>20.8</td>\n",
       "      <td>1358人付款</td>\n",
       "      <td>怡品三清旗舰店</td>\n",
       "      <td>浙江 杭州</td>\n",
       "    </tr>\n",
       "    <tr>\n",
       "      <th>3743</th>\n",
       "      <td>三珍斋嘉兴粽子大肉粽子蛋黄肉粽豆沙蜜枣端午节散装批发鲜肉棕子</td>\n",
       "      <td>低</td>\n",
       "      <td>19.9</td>\n",
       "      <td>35人付款</td>\n",
       "      <td>三珍斋乌镇专卖</td>\n",
       "      <td>浙江 嘉兴</td>\n",
       "    </tr>\n",
       "    <tr>\n",
       "      <th>1311</th>\n",
       "      <td>现做新鲜粽子咸蛋黄肉粽甜粽端午节散装嘉兴蜜枣豆沙大批發礼盒装</td>\n",
       "      <td>低</td>\n",
       "      <td>9.9</td>\n",
       "      <td>5000人付款</td>\n",
       "      <td>徽老九美食</td>\n",
       "      <td>安徽 亳州</td>\n",
       "    </tr>\n",
       "  </tbody>\n",
       "</table>\n",
       "</div>"
      ],
      "text/plain": [
       "                                   标题 价格类别    价格     付款人数        店铺  发货地址 \n",
       "3666    嘉兴五芳斋粽子紫米栗蓉粽板栗栗子甜粽子五谷素粽真空袋装美味    低  11.0   162人付款  三珍斋食品专营店  江苏 南京\n",
       "1623   白米粽子新鲜湖南甜粽原味小粽子农家手工散装绿豆红枣碱水清水粽    低  20.9   181人付款  乐家_stone  湖南 常德\n",
       "1053  【9只特价】新鲜蛋黄肉粽 嘉兴粽子特产端午节批发团购早餐粽手工    低  20.8  1358人付款   怡品三清旗舰店  浙江 杭州\n",
       "3743   三珍斋嘉兴粽子大肉粽子蛋黄肉粽豆沙蜜枣端午节散装批发鲜肉棕子    低  19.9    35人付款   三珍斋乌镇专卖  浙江 嘉兴\n",
       "1311   现做新鲜粽子咸蛋黄肉粽甜粽端午节散装嘉兴蜜枣豆沙大批發礼盒装    低   9.9  5000人付款     徽老九美食  安徽 亳州"
      ]
     },
     "execution_count": 134,
     "metadata": {},
     "output_type": "execute_result"
    }
   ],
   "source": [
    "ret_df['人数数字'] = pd.to_numeric(ret_df['付款人数'].str.extract(r'([0-9.]*)')[0], errors='coerce')\n",
    "include_10t = ret_df['付款人数'].str.contains(r'万')\n",
    "ret_df['人数数字'][include_10t] = ret_df['人数数字'][include_10t] * 10000\n",
    "\n",
    "for name, group in ret_df.groupby('价格类别'):\n",
    "      ret_df.loc[group.index,'人数数字'] = group[[' 价格','人数数字']].sort_values(by=' 价格', ascending=False).interpolate()['人数数字']\n",
    "\n",
    "ret_df['人数数字'] = ret_df['人数数字'].astype(int)\n",
    "ret_df['付款人数'] = (ret_df['人数数字'].apply(str) + '人付款').to_frame()\n",
    "ret_df.iloc[:,[0, 1, 2, 3, 4, 5]].head()"
   ]
  },
  {
   "cell_type": "markdown",
   "metadata": {},
   "source": [
    "(5) 请将数据后四列合并为如下格式的 Series：商品发货地为 ××，店铺为\n",
    "××，共计 ×× 人付款，单价为 ××。"
   ]
  },
  {
   "cell_type": "code",
   "execution_count": 138,
   "metadata": {},
   "outputs": [
    {
     "data": {
      "text/html": [
       "<div>\n",
       "<style scoped>\n",
       "    .dataframe tbody tr th:only-of-type {\n",
       "        vertical-align: middle;\n",
       "    }\n",
       "\n",
       "    .dataframe tbody tr th {\n",
       "        vertical-align: top;\n",
       "    }\n",
       "\n",
       "    .dataframe thead th {\n",
       "        text-align: right;\n",
       "    }\n",
       "</style>\n",
       "<table border=\"1\" class=\"dataframe\">\n",
       "  <thead>\n",
       "    <tr style=\"text-align: right;\">\n",
       "      <th></th>\n",
       "      <th>ID</th>\n",
       "    </tr>\n",
       "  </thead>\n",
       "  <tbody>\n",
       "    <tr>\n",
       "      <th>3666</th>\n",
       "      <td>商品发货地为江苏 南京，店铺为三珍斋食品专营店，共计162人付款，单价为11.0</td>\n",
       "    </tr>\n",
       "    <tr>\n",
       "      <th>1623</th>\n",
       "      <td>商品发货地为湖南 常德，店铺为乐家_stone，共计181人付款，单价为20.9</td>\n",
       "    </tr>\n",
       "    <tr>\n",
       "      <th>1053</th>\n",
       "      <td>商品发货地为浙江 杭州，店铺为怡品三清旗舰店，共计1358人付款，单价为20.8</td>\n",
       "    </tr>\n",
       "    <tr>\n",
       "      <th>3743</th>\n",
       "      <td>商品发货地为浙江 嘉兴，店铺为三珍斋乌镇专卖，共计35人付款，单价为19.9</td>\n",
       "    </tr>\n",
       "    <tr>\n",
       "      <th>1311</th>\n",
       "      <td>商品发货地为安徽 亳州，店铺为徽老九美食，共计5000人付款，单价为9.9</td>\n",
       "    </tr>\n",
       "  </tbody>\n",
       "</table>\n",
       "</div>"
      ],
      "text/plain": [
       "                                            ID\n",
       "3666  商品发货地为江苏 南京，店铺为三珍斋食品专营店，共计162人付款，单价为11.0\n",
       "1623  商品发货地为湖南 常德，店铺为乐家_stone，共计181人付款，单价为20.9\n",
       "1053  商品发货地为浙江 杭州，店铺为怡品三清旗舰店，共计1358人付款，单价为20.8\n",
       "3743    商品发货地为浙江 嘉兴，店铺为三珍斋乌镇专卖，共计35人付款，单价为19.9\n",
       "1311     商品发货地为安徽 亳州，店铺为徽老九美食，共计5000人付款，单价为9.9"
      ]
     },
     "execution_count": 138,
     "metadata": {},
     "output_type": "execute_result"
    }
   ],
   "source": [
    "ret_df1 = ('商品发货地为' + ret_df['发货地址 '] + '，店铺为' + ret_df['店铺'] + \\\n",
    "        '，共计' + ret_df['人数数字'].apply(str) + '人付款，单价为' + ret_df[' 价格'].apply(str)).to_frame().rename(columns={0:'ID'})\n",
    "ret_df1.head()"
   ]
  },
  {
   "cell_type": "markdown",
   "metadata": {},
   "source": [
    "(6) 请将上一问中的结果恢复成原来的四列。"
   ]
  },
  {
   "cell_type": "markdown",
   "metadata": {},
   "source": [
    "#### 二、墨尔本每日最低温度"
   ]
  },
  {
   "cell_type": "markdown",
   "metadata": {},
   "source": [
    "(1) 剔除国庆节、五一劳动节和每月第一个周一，求每月的平均最低气温。"
   ]
  },
  {
   "cell_type": "markdown",
   "metadata": {},
   "source": [
    "#### 三、2016 年 8 月上海市摩拜单车骑行记录"
   ]
  },
  {
   "cell_type": "markdown",
   "metadata": {},
   "source": [
    "(1) 平均而言，周末单天用车量比工作日单天用车量更大吗？"
   ]
  },
  {
   "cell_type": "code",
   "execution_count": 102,
   "metadata": {},
   "outputs": [
    {
     "data": {
      "text/html": [
       "<div>\n",
       "<style scoped>\n",
       "    .dataframe tbody tr th:only-of-type {\n",
       "        vertical-align: middle;\n",
       "    }\n",
       "\n",
       "    .dataframe tbody tr th {\n",
       "        vertical-align: top;\n",
       "    }\n",
       "\n",
       "    .dataframe thead th {\n",
       "        text-align: right;\n",
       "    }\n",
       "</style>\n",
       "<table border=\"1\" class=\"dataframe\">\n",
       "  <thead>\n",
       "    <tr style=\"text-align: right;\">\n",
       "      <th></th>\n",
       "      <th>orderid</th>\n",
       "      <th>bikeid</th>\n",
       "      <th>userid</th>\n",
       "      <th>start_time</th>\n",
       "      <th>start_location_x</th>\n",
       "      <th>start_location_y</th>\n",
       "      <th>end_time</th>\n",
       "      <th>end_location_x</th>\n",
       "      <th>end_location_y</th>\n",
       "      <th>track</th>\n",
       "      <th>Date</th>\n",
       "      <th>Time</th>\n",
       "    </tr>\n",
       "  </thead>\n",
       "  <tbody>\n",
       "    <tr>\n",
       "      <th>0</th>\n",
       "      <td>78387</td>\n",
       "      <td>158357</td>\n",
       "      <td>10080</td>\n",
       "      <td>2016-08-20 06:57</td>\n",
       "      <td>121.348</td>\n",
       "      <td>31.389</td>\n",
       "      <td>2016-08-20 07:04</td>\n",
       "      <td>121.357</td>\n",
       "      <td>31.388</td>\n",
       "      <td>121.347,31.392#121.348,31.389#121.349,31.390#1...</td>\n",
       "      <td>2016-08-20</td>\n",
       "      <td>2016-08-20 06:57:00</td>\n",
       "    </tr>\n",
       "    <tr>\n",
       "      <th>1</th>\n",
       "      <td>891333</td>\n",
       "      <td>92776</td>\n",
       "      <td>6605</td>\n",
       "      <td>2016-08-29 19:09</td>\n",
       "      <td>121.508</td>\n",
       "      <td>31.279</td>\n",
       "      <td>2016-08-29 19:31</td>\n",
       "      <td>121.489</td>\n",
       "      <td>31.271</td>\n",
       "      <td>121.489,31.270#121.489,31.271#121.490,31.270#1...</td>\n",
       "      <td>2016-08-29</td>\n",
       "      <td>2016-08-29 19:09:00</td>\n",
       "    </tr>\n",
       "    <tr>\n",
       "      <th>2</th>\n",
       "      <td>1106623</td>\n",
       "      <td>152045</td>\n",
       "      <td>8876</td>\n",
       "      <td>2016-08-13 16:17</td>\n",
       "      <td>121.383</td>\n",
       "      <td>31.254</td>\n",
       "      <td>2016-08-13 16:36</td>\n",
       "      <td>121.405</td>\n",
       "      <td>31.248</td>\n",
       "      <td>121.381,31.251#121.382,31.251#121.382,31.252#1...</td>\n",
       "      <td>2016-08-13</td>\n",
       "      <td>2016-08-13 16:17:00</td>\n",
       "    </tr>\n",
       "    <tr>\n",
       "      <th>3</th>\n",
       "      <td>1389484</td>\n",
       "      <td>196259</td>\n",
       "      <td>10648</td>\n",
       "      <td>2016-08-23 21:34</td>\n",
       "      <td>121.484</td>\n",
       "      <td>31.320</td>\n",
       "      <td>2016-08-23 21:43</td>\n",
       "      <td>121.471</td>\n",
       "      <td>31.325</td>\n",
       "      <td>121.471,31.325#121.472,31.325#121.473,31.324#1...</td>\n",
       "      <td>2016-08-23</td>\n",
       "      <td>2016-08-23 21:34:00</td>\n",
       "    </tr>\n",
       "    <tr>\n",
       "      <th>4</th>\n",
       "      <td>188537</td>\n",
       "      <td>78208</td>\n",
       "      <td>11735</td>\n",
       "      <td>2016-08-16 07:32</td>\n",
       "      <td>121.407</td>\n",
       "      <td>31.292</td>\n",
       "      <td>2016-08-16 07:41</td>\n",
       "      <td>121.418</td>\n",
       "      <td>31.288</td>\n",
       "      <td>121.407,31.291#121.407,31.292#121.408,31.291#1...</td>\n",
       "      <td>2016-08-16</td>\n",
       "      <td>2016-08-16 07:32:00</td>\n",
       "    </tr>\n",
       "  </tbody>\n",
       "</table>\n",
       "</div>"
      ],
      "text/plain": [
       "   orderid  bikeid  userid        start_time  start_location_x  \\\n",
       "0    78387  158357   10080  2016-08-20 06:57           121.348   \n",
       "1   891333   92776    6605  2016-08-29 19:09           121.508   \n",
       "2  1106623  152045    8876  2016-08-13 16:17           121.383   \n",
       "3  1389484  196259   10648  2016-08-23 21:34           121.484   \n",
       "4   188537   78208   11735  2016-08-16 07:32           121.407   \n",
       "\n",
       "   start_location_y          end_time  end_location_x  end_location_y  \\\n",
       "0            31.389  2016-08-20 07:04         121.357          31.388   \n",
       "1            31.279  2016-08-29 19:31         121.489          31.271   \n",
       "2            31.254  2016-08-13 16:36         121.405          31.248   \n",
       "3            31.320  2016-08-23 21:43         121.471          31.325   \n",
       "4            31.292  2016-08-16 07:41         121.418          31.288   \n",
       "\n",
       "                                               track       Date  \\\n",
       "0  121.347,31.392#121.348,31.389#121.349,31.390#1... 2016-08-20   \n",
       "1  121.489,31.270#121.489,31.271#121.490,31.270#1... 2016-08-29   \n",
       "2  121.381,31.251#121.382,31.251#121.382,31.252#1... 2016-08-13   \n",
       "3  121.471,31.325#121.472,31.325#121.473,31.324#1... 2016-08-23   \n",
       "4  121.407,31.291#121.407,31.292#121.408,31.291#1... 2016-08-16   \n",
       "\n",
       "                 Time  \n",
       "0 2016-08-20 06:57:00  \n",
       "1 2016-08-29 19:09:00  \n",
       "2 2016-08-13 16:17:00  \n",
       "3 2016-08-23 21:34:00  \n",
       "4 2016-08-16 07:32:00  "
      ]
     },
     "execution_count": 102,
     "metadata": {},
     "output_type": "execute_result"
    }
   ],
   "source": [
    "df = pd.read_csv(r'joyful-pandas-master\\data\\摩拜单车数据.csv').convert_dtypes()\n",
    "date_ext = df['start_time'].str.extract(r'([0-9]{4}-[0-9]{2}-[0-9]{2}) [0-9]{2}:[0-9]{2}')\n",
    "df['Date'] = date_ext.astype('datetime64').rename(columns={0:'Date'})\n",
    "df['Time'] = df['start_time'].astype('datetime64')\n",
    "df.head()"
   ]
  },
  {
   "cell_type": "markdown",
   "metadata": {},
   "source": [
    "(2) 工作日每天的高峰时间段大致为上午 7:30 至 9:30、下午 17:00 至 19:00，\n",
    "请问 8 月里早高峰骑行记录量（以 start_time 为准）高于晚高峰的有\n",
    "几天？"
   ]
  },
  {
   "cell_type": "markdown",
   "metadata": {},
   "source": [
    "(3) 请给出在所有周五中（以 start_time 为准），记录条数最多的那个周五\n",
    "所在的日期，并在该天内分别按 30 分钟、2 小时、6 小时统计摩拜单车\n",
    "使用时间的均值。"
   ]
  },
  {
   "cell_type": "markdown",
   "metadata": {},
   "source": [
    "(4) 请自行搜索相关代码或调用库，计算每条记录起点到终点的球面距离。"
   ]
  },
  {
   "cell_type": "markdown",
   "metadata": {},
   "source": [
    "(5) 摩拜单车的骑行结束时间是以电子锁关闭的记录时间为准，但有时候用\n",
    "户会忘记关锁，导致骑行时间出现异常。同时，正常人的骑行速度往往\n",
    "大致落在一个合理的区间，请结合上一问中的球面距离和骑行起始、结\n",
    "束时间，找出潜在的异常骑行记录。"
   ]
  },
  {
   "cell_type": "markdown",
   "metadata": {},
   "source": [
    "(6) 由于路线的曲折性，起点到终点的球面距离往往不能充分反应行程长\n",
    "度，请利用 track 列的路线坐标数据，计算估计实际骑行距离，并重新\n",
    "仿照上一问的方法找出可能的异常记录。"
   ]
  }
 ],
 "metadata": {
  "kernelspec": {
   "display_name": "Python 3",
   "language": "python",
   "name": "python3"
  },
  "language_info": {
   "codemirror_mode": {
    "name": "ipython",
    "version": 3
   },
   "file_extension": ".py",
   "mimetype": "text/x-python",
   "name": "python",
   "nbconvert_exporter": "python",
   "pygments_lexer": "ipython3",
   "version": "3.7.0"
  }
 },
 "nbformat": 4,
 "nbformat_minor": 4
}
