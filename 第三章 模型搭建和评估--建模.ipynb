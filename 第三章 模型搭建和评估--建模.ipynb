{
 "cells": [
  {
   "cell_type": "markdown",
   "metadata": {},
   "source": [
    "## 第三章 模型搭建和评估--建模\n",
    "经过前面的两章的知识点的学习，我可以对数数据的本身进行处理，比如数据本身的增删查补，还可以做必要的清洗工作。那么下面我们就要开始使用我们前面处理好的数据了。这一章我们要做的就是使用数据，我们做数据分析的目的也就是，运用我们的数据以及结合我的业务来得到某些我们需要知道的结果。那么分析的第一步就是建模，搭建一个预测模型或者其他模型；我们从这个模型的到结果之后，我们要分析我的模型是不是足够的可靠，那我就需要评估这个模型。今天我们学习建模，下一节我们学习评估。\n",
    "我们拥有的泰坦尼克号的数据集，那么我们这次的目的就是，完成泰坦尼克号存活预测这个任务。"
   ]
  },
  {
   "cell_type": "code",
   "execution_count": null,
   "metadata": {},
   "outputs": [],
   "source": [
    "import pandas as pd\n",
    "import numpy as np\n",
    "import matplotlib.pyplot as plt\n",
    "import seaborn as sns\n",
    "from IPython.display import Image"
   ]
  },
  {
   "cell_type": "code",
   "execution_count": null,
   "metadata": {},
   "outputs": [],
   "source": [
    "%matplotlib inline"
   ]
  },
  {
   "cell_type": "code",
   "execution_count": null,
   "metadata": {},
   "outputs": [],
   "source": [
    "plt.rcParams['font.sans-serif'] = ['SimHei']  # 用来正常显示中文标签\n",
    "plt.rcParams['axes.unicode_minus'] = False  # 用来正常显示负号\n",
    "plt.rcParams['figure.figsize'] = (10, 6)  # 设置输出图片大小"
   ]
  },
  {
   "cell_type": "code",
   "execution_count": null,
   "metadata": {},
   "outputs": [],
   "source": [
    "载入这些库，如果缺少某些库，请安装他们\n",
    "\n",
    "【思考】这些库的作用是什么呢？你需要查一查"
   ]
  },
  {
   "cell_type": "markdown",
   "metadata": {},
   "source": [
    "#### 载入我们提供清洗之后的数据(clear_data.csv)，大家也将原始数据载入（train.csv），说说他们有什么不同"
   ]
  },
  {
   "cell_type": "markdown",
   "metadata": {},
   "source": [
    "#### 模型搭建\n",
    "- 处理完前面的数据我们就得到建模数据，下一步是选择合适模型\n",
    "- 在进行模型选择之前我们需要先知道数据集最终是进行监督学习还是无监督学习\n",
    "- 模型的选择一方面是通过我们的任务来决定的。\n",
    "- 除了根据我们任务来选择模型外，还可以根据数据样本量以及特征的稀疏性来决定\n",
    "- 刚开始我们总是先尝试使用一个基本的模型来作为其baseline，进而再训练其他模型做对比，最终选择泛化能力或性能比较好的模型"
   ]
  },
  {
   "cell_type": "markdown",
   "metadata": {},
   "source": [
    "这里我的建模，并不是从零开始，自己一个人完成完成所有代码的编译。我们这里使用一个机器学习最常用的一个库（sklearn）来完成我们的模型的搭建"
   ]
  },
  {
   "cell_type": "code",
   "execution_count": null,
   "metadata": {},
   "outputs": [],
   "source": [
    "下面给出sklearn的算法选择路径，供大家参考"
   ]
  },
  {
   "cell_type": "code",
   "execution_count": null,
   "metadata": {},
   "outputs": [],
   "source": [
    "# sklearn模型算法选择路径图\n",
    "Image('sklearn.png')"
   ]
  },
  {
   "cell_type": "markdown",
   "metadata": {},
   "source": [
    "【思考】数据集哪些差异会导致模型在拟合数据是发生变化"
   ]
  },
  {
   "cell_type": "markdown",
   "metadata": {},
   "source": [
    "#### 任务一：切割训练集和测试集"
   ]
  },
  {
   "cell_type": "markdown",
   "metadata": {},
   "source": [
    "这里使用留出法划分数据集\n",
    "- 将数据集分为自变量和因变量\n",
    "- 按比例切割训练集和测试集(一般测试集的比例有30%、25%、20%、15%和10%)\n",
    "- 使用分层抽样\n",
    "- 设置随机种子以便结果能复现"
   ]
  },
  {
   "cell_type": "markdown",
   "metadata": {},
   "source": [
    "【思考】\n",
    "- 划分数据集的方法有哪些？\n",
    "- 为什么使用分层抽样，这样的好处有什么？"
   ]
  },
  {
   "cell_type": "markdown",
   "metadata": {},
   "source": [
    "任务提示1\n",
    "- 切割数据集是为了后续能评估模型泛化能力\n",
    "- sklearn中切割数据集的方法为train_test_split\n",
    "- 查看函数文档可以在jupyter noteboo里面使用train_test_split?后回车即可看到\n",
    "- 分层和随机种子在参数里寻找"
   ]
  },
  {
   "cell_type": "markdown",
   "metadata": {},
   "source": [
    "要从clear_data.csv和train.csv中提取train_test_split()所需的参数"
   ]
  },
  {
   "cell_type": "markdown",
   "metadata": {},
   "source": [
    "【思考】\n",
    "- 什么情况下切割数据集的时候不用进行随机选取"
   ]
  },
  {
   "cell_type": "markdown",
   "metadata": {},
   "source": [
    "任务二：模型创建\n",
    "- 创建基于线性模型的分类模型（逻辑回归）\n",
    "- 创建基于树的分类模型（决策树、随机森林）\n",
    "- 分别使用这些模型进行训练，分别的到训练集和测试集的得分\n",
    "- 查看模型的参数，并更改参数值，观察模型变化"
   ]
  },
  {
   "cell_type": "markdown",
   "metadata": {},
   "source": [
    "提示\n",
    "- 逻辑回归不是回归模型而是分类模型，不要与LinearRegression混淆\n",
    "- 随机森林其实是决策树集成为了降低决策树过拟合的情况\n",
    "- 线性模型所在的模块为sklearn.linear_model\n",
    "- 树模型所在的模块为sklearn.ensemble"
   ]
  },
  {
   "cell_type": "markdown",
   "metadata": {},
   "source": [
    "【思考】\n",
    "\n",
    "- 为什么线性模型可以进行分类任务，背后是怎么的数学关系\n",
    "- 对于多分类问题，线性模型是怎么进行分类的"
   ]
  },
  {
   "cell_type": "markdown",
   "metadata": {},
   "source": [
    "任务三：输出模型预测结果\n",
    "- 输出模型预测分类标签\n",
    "- 输出不同分类标签的预测概率"
   ]
  },
  {
   "cell_type": "markdown",
   "metadata": {},
   "source": [
    "提示3\n",
    "- 一般监督模型在sklearn里面有个predict能输出预测标签，predict_proba则可以输出标签概率"
   ]
  },
  {
   "cell_type": "markdown",
   "metadata": {},
   "source": [
    "【思考】\n",
    "\n",
    "- 预测标签的概率对我们有什么帮助"
   ]
  },
  {
   "cell_type": "code",
   "execution_count": null,
   "metadata": {},
   "outputs": [],
   "source": [
    "    在外面玩，来不及做了，先记录个问题，打个卡，后面再补。"
   ]
  }
 ],
 "metadata": {
  "kernelspec": {
   "display_name": "Python 3",
   "language": "python",
   "name": "python3"
  },
  "language_info": {
   "codemirror_mode": {
    "name": "ipython",
    "version": 3
   },
   "file_extension": ".py",
   "mimetype": "text/x-python",
   "name": "python",
   "nbconvert_exporter": "python",
   "pygments_lexer": "ipython3",
   "version": "3.7.0"
  }
 },
 "nbformat": 4,
 "nbformat_minor": 4
}
